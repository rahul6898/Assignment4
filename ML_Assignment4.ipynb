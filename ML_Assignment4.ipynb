{
 "cells": [
  {
   "cell_type": "code",
   "execution_count": 108,
   "id": "c82ee30e",
   "metadata": {},
   "outputs": [],
   "source": [
    "import numpy as np\n",
    "import pandas as pd"
   ]
  },
  {
   "cell_type": "code",
   "execution_count": 109,
   "id": "e730b091",
   "metadata": {},
   "outputs": [],
   "source": [
    "# a. Import the given “Salary_Data.csv”\n",
    "df = pd.read_csv(\"Salary_Data.csv\")"
   ]
  },
  {
   "cell_type": "code",
   "execution_count": 110,
   "id": "4dd1ec4a",
   "metadata": {},
   "outputs": [],
   "source": [
    "X = df.iloc[:, :-1].values   #ecluding last column i.e., years of experience column\n",
    "Y = df.iloc[:, 1].values     #only salary column"
   ]
  },
  {
   "cell_type": "code",
   "execution_count": 111,
   "id": "e14ed80e",
   "metadata": {},
   "outputs": [],
   "source": [
    "# b. Split the data in train_test partitions, such that 1/3 of the data is reserved as test subset.\n",
    "from sklearn.model_selection import train_test_split \n",
    "X_train, X_test, Y_train, Y_test = train_test_split(X, Y, test_size=1/3, random_state=0)"
   ]
  },
  {
   "cell_type": "code",
   "execution_count": 112,
   "id": "20be10b7",
   "metadata": {},
   "outputs": [
    {
     "data": {
      "text/plain": [
       "array([ 40835.10590871, 123079.39940819,  65134.55626083,  63265.36777221,\n",
       "       115602.64545369, 108125.8914992 , 116537.23969801,  64199.96201652,\n",
       "        76349.68719258, 100649.1375447 ])"
      ]
     },
     "execution_count": 112,
     "metadata": {},
     "output_type": "execute_result"
    }
   ],
   "source": [
    "# c. Train and predict the model.\n",
    "from sklearn.linear_model import LinearRegression\n",
    "regressor = LinearRegression()\n",
    "regressor.fit(X_train, Y_train)\n",
    "Y_Pred = regressor.predict(X_test)\n",
    "Y_Pred"
   ]
  },
  {
   "cell_type": "code",
   "execution_count": 113,
   "id": "a2b26572",
   "metadata": {},
   "outputs": [
    {
     "data": {
      "text/plain": [
       "21026037.329511303"
      ]
     },
     "execution_count": 113,
     "metadata": {},
     "output_type": "execute_result"
    }
   ],
   "source": [
    "# d. Calculate the mean_squared error\n",
    "Serror = (Y_Pred - Y_test) ** 2\n",
    "Sum_Serror = np.sum(Serror)\n",
    "mean_squared_error = Sum_Serror / Y_test.size\n",
    "mean_squared_error"
   ]
  },
  {
   "cell_type": "code",
   "execution_count": 114,
   "id": "6356b186",
   "metadata": {},
   "outputs": [
    {
     "data": {
      "image/png": "[encoded data removed]",
      "text/plain": [
       "<Figure size 432x288 with 1 Axes>"
      ]
     },
     "metadata": {
      "needs_background": "light"
     },
     "output_type": "display_data"
    },
    {
     "data": {
      "image/png": "[encoded data removed]",
      "text/plain": [
       "<Figure size 432x288 with 1 Axes>"
      ]
     },
     "metadata": {
      "needs_background": "light"
     },
     "output_type": "display_data"
    }
   ],
   "source": [
    "# e. Visualize both train and test data using scatter plot.\n",
    "import matplotlib.pyplot as plt\n",
    "# Training Data set\n",
    "plt.scatter(X_train, Y_train)\n",
    "plt.plot(X_train, regressor.predict(X_train), color='red')\n",
    "plt.title('Training set')\n",
    "plt.show()\n",
    "\n",
    "# Testing Data set\n",
    "plt.scatter(X_test, Y_test)\n",
    "plt.plot(X_test, regressor.predict(X_test), color='red')\n",
    "plt.title('Testing set')\n",
    "plt.show()"
   ]
  },
  {
   "cell_type": "code",
   "execution_count": null,
   "id": "efe7487a",
   "metadata": {},
   "outputs": [],
   "source": []
  },
  {
   "cell_type": "code",
   "execution_count": 115,
   "id": "61803bd8",
   "metadata": {},
   "outputs": [],
   "source": [
    "# 2. Apply K means clustering in the dataset provided:\n",
    "\n",
    "k_mean = pd.read_csv(\"K-Mean_Dataset.csv\")"
   ]
  },
  {
   "cell_type": "code",
   "execution_count": 116,
   "id": "d5b37be9",
   "metadata": {},
   "outputs": [
    {
     "data": {
      "text/plain": [
       "CUST_ID                             False\n",
       "BALANCE                             False\n",
       "BALANCE_FREQUENCY                   False\n",
       "PURCHASES                           False\n",
       "ONEOFF_PURCHASES                    False\n",
       "INSTALLMENTS_PURCHASES              False\n",
       "CASH_ADVANCE                        False\n",
       "PURCHASES_FREQUENCY                 False\n",
       "ONEOFF_PURCHASES_FREQUENCY          False\n",
       "PURCHASES_INSTALLMENTS_FREQUENCY    False\n",
       "CASH_ADVANCE_FREQUENCY              False\n",
       "CASH_ADVANCE_TRX                    False\n",
       "PURCHASES_TRX                       False\n",
       "CREDIT_LIMIT                         True\n",
       "PAYMENTS                            False\n",
       "MINIMUM_PAYMENTS                     True\n",
       "PRC_FULL_PAYMENT                    False\n",
       "TENURE                              False\n",
       "dtype: bool"
      ]
     },
     "execution_count": 116,
     "metadata": {},
     "output_type": "execute_result"
    }
   ],
   "source": [
    "k_mean.isnull().any()"
   ]
  },
  {
   "cell_type": "code",
   "execution_count": 117,
   "id": "dd6864c4",
   "metadata": {},
   "outputs": [],
   "source": [
    "# Remove any null values by the mean.\n",
    "\n",
    "mean1=k_mean['CREDIT_LIMIT'].mean()\n",
    "mean2=k_mean['MINIMUM_PAYMENTS'].mean()\n",
    "k_mean['CREDIT_LIMIT'].fillna(value=mean1, inplace=True)\n",
    "k_mean['MINIMUM_PAYMENTS'].fillna(value=mean2, inplace=True)"
   ]
  },
  {
   "cell_type": "code",
   "execution_count": 118,
   "id": "1e5ef76b",
   "metadata": {},
   "outputs": [
    {
     "data": {
      "text/plain": [
       "CUST_ID                             False\n",
       "BALANCE                             False\n",
       "BALANCE_FREQUENCY                   False\n",
       "PURCHASES                           False\n",
       "ONEOFF_PURCHASES                    False\n",
       "INSTALLMENTS_PURCHASES              False\n",
       "CASH_ADVANCE                        False\n",
       "PURCHASES_FREQUENCY                 False\n",
       "ONEOFF_PURCHASES_FREQUENCY          False\n",
       "PURCHASES_INSTALLMENTS_FREQUENCY    False\n",
       "CASH_ADVANCE_FREQUENCY              False\n",
       "CASH_ADVANCE_TRX                    False\n",
       "PURCHASES_TRX                       False\n",
       "CREDIT_LIMIT                        False\n",
       "PAYMENTS                            False\n",
       "MINIMUM_PAYMENTS                    False\n",
       "PRC_FULL_PAYMENT                    False\n",
       "TENURE                              False\n",
       "dtype: bool"
      ]
     },
     "execution_count": 118,
     "metadata": {},
     "output_type": "execute_result"
    }
   ],
   "source": [
    "k_mean.isnull().any()"
   ]
  },
  {
   "cell_type": "code",
   "execution_count": 119,
   "id": "12662918",
   "metadata": {},
   "outputs": [],
   "source": [
    "x = k_mean.iloc[:,1:]            "
   ]
  },
  {
   "cell_type": "code",
   "execution_count": 120,
   "id": "36adf9b4",
   "metadata": {},
   "outputs": [
    {
     "data": {
      "image/png": "[encoded data removed]",
      "text/plain": [
       "<Figure size 432x288 with 1 Axes>"
      ]
     },
     "metadata": {
      "needs_background": "light"
     },
     "output_type": "display_data"
    }
   ],
   "source": [
    "# Use the elbow method to find a good number of clusters with the K-Means algorithm\n",
    "\n",
    "from sklearn.cluster import KMeans\n",
    "wcss = []\n",
    "for i in range(1,11):\n",
    "    kmeans = KMeans(n_clusters=i,init='k-means++',max_iter=300,n_init=10,random_state=0)\n",
    "    kmeans.fit(x)\n",
    "    wcss.append(kmeans.inertia_)\n",
    "\n",
    "plt.plot(range(1,11),wcss)\n",
    "plt.title('the elbow method')\n",
    "plt.xlabel('Number of Clusters')\n",
    "plt.ylabel('Wcss')\n",
    "plt.show()\n"
   ]
  },
  {
   "cell_type": "code",
   "execution_count": 121,
   "id": "a569b7d6",
   "metadata": {},
   "outputs": [
    {
     "name": "stdout",
     "output_type": "stream",
     "text": [
      "0.4654251280958053\n"
     ]
    }
   ],
   "source": [
    "#  Calculate the silhouette score for the above clustering\n",
    "\n",
    "nclusters = 3  # this is the k in kmeans\n",
    "km = KMeans(n_clusters=nclusters)\n",
    "km.fit(x)\n",
    "\n",
    "y_cluster_kmeans = km.predict(x)\n",
    "from sklearn import metrics\n",
    "score = metrics.silhouette_score(x, y_cluster_kmeans)\n",
    "print(score)\n"
   ]
  },
  {
   "cell_type": "code",
   "execution_count": 122,
   "id": "cd981c82",
   "metadata": {},
   "outputs": [],
   "source": [
    "# feature scaling using standard scaler\n",
    "\n",
    "from sklearn import preprocessing\n",
    "scaler = preprocessing.StandardScaler()\n",
    "scaler.fit(x)\n",
    "X_scaled_array = scaler.transform(x)\n",
    "X_scaled = pd.DataFrame(X_scaled_array, columns = x.columns)"
   ]
  },
  {
   "cell_type": "code",
   "execution_count": 107,
   "id": "8fd1909f",
   "metadata": {},
   "outputs": [
    {
     "name": "stdout",
     "output_type": "stream",
     "text": [
      "0.25055570796307736\n"
     ]
    }
   ],
   "source": [
    "#  Calculate the silhouette score for the above clustering \n",
    "\n",
    "nclusters = 3  # this is the k in kmeans\n",
    "km = KMeans(n_clusters=nclusters)\n",
    "km.fit(X_scaled)\n",
    "\n",
    "y_cluster_kmeans = km.predict(X_scaled)\n",
    "from sklearn import metrics\n",
    "score = metrics.silhouette_score(X_scaled, y_cluster_kmeans)\n",
    "print(score)"
   ]
  },
  {
   "cell_type": "code",
   "execution_count": null,
   "id": "0317030e",
   "metadata": {},
   "outputs": [],
   "source": []
  }
 ],
 "metadata": {
  "kernelspec": {
   "display_name": "Python 3 (ipykernel)",
   "language": "python",
   "name": "python3"
  },
  "language_info": {
   "codemirror_mode": {
    "name": "ipython",
    "version": 3
   },
   "file_extension": ".py",
   "mimetype": "text/x-python",
   "name": "python",
   "nbconvert_exporter": "python",
   "pygments_lexer": "ipython3",
   "version": "3.9.12"
  }
 },
 "nbformat": 4,
 "nbformat_minor": 5
}
